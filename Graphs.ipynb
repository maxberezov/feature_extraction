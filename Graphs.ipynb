{
 "cells": [
  {
   "cell_type": "code",
   "execution_count": 8,
   "metadata": {},
   "outputs": [],
   "source": [
    "from settings import control_graph_characteristics, poly_handcrafted_dep_graph_path, tsvc_handcrafted_dep_graph_path\n",
    "from settings import dep_graph_characteristics\n",
    "import pandas as pd\n",
    "from settings import poly_ast_features_path, tsvc_ast_features_path\n",
    "from settings import features_path\n",
    "import os\n",
    "\n",
    "dependencies_poly = pd.read_csv(poly_handcrafted_dep_graph_path)\n",
    "dependencies_tsvc = pd.read_csv(tsvc_handcrafted_dep_graph_path)\n",
    "control_graph_features = pd.read_csv(control_graph_characteristics)\n",
    "dep_graph_features = pd.read_csv(dep_graph_characteristics)\n",
    "ast_features_poly = pd.read_csv(poly_ast_features_path)\n",
    "ast_features_tsvc = pd.read_csv(tsvc_ast_features_path)"
   ]
  },
  {
   "cell_type": "code",
   "execution_count": 9,
   "metadata": {},
   "outputs": [
    {
     "name": "stderr",
     "output_type": "stream",
     "text": [
      "/home/maksim/anaconda3/lib/python3.7/site-packages/ipykernel_launcher.py:13: SettingWithCopyWarning: \n",
      "A value is trying to be set on a copy of a slice from a DataFrame\n",
      "\n",
      "See the caveats in the documentation: http://pandas.pydata.org/pandas-docs/stable/indexing.html#indexing-view-versus-copy\n",
      "  del sys.path[0]\n",
      "/home/maksim/anaconda3/lib/python3.7/site-packages/ipykernel_launcher.py:16: SettingWithCopyWarning: \n",
      "A value is trying to be set on a copy of a slice from a DataFrame\n",
      "\n",
      "See the caveats in the documentation: http://pandas.pydata.org/pandas-docs/stable/indexing.html#indexing-view-versus-copy\n",
      "  app.launch_new_instance()\n"
     ]
    }
   ],
   "source": [
    "dependencies_tsvc['label'] = dependencies_tsvc['label'].apply(lambda x: x[:x.find('_')])\n",
    "ast_features_tsvc['label'] = ast_features_tsvc['label'].apply(lambda x: x[5:])\n",
    "control_embeddings_model_1 = pd.read_csv(os.path.join(features_path,'control_model_1_128'))\n",
    "control_embeddings_model_2 = pd.read_csv(os.path.join(features_path,'control_model_2_128'))\n",
    "dep_embeddings_model_1 = pd.read_csv(os.path.join(features_path,'dependencies_model_1_128'))\n",
    "dep_embeddings_model_2 = pd.read_csv(os.path.join(features_path,'dependencies_model_2_128'))\n",
    "\n",
    "list_to_preprocess = [dep_graph_features, control_graph_features]\n",
    "embeddings = [control_embeddings_model_1, control_embeddings_model_2, dep_embeddings_model_1, dep_embeddings_model_2]\n",
    "\n",
    "\n",
    "for element in list_to_preprocess:\n",
    "    element['label'][51:] = element['label'][51:].apply(lambda x: x[:x.find('_')])\n",
    "\n",
    "for element in embeddings:\n",
    "    element['label'][51:] = element['label'][51:].apply(lambda x: x[:x.find('_')])\n",
    "    element.drop('Unnamed: 0', 1, inplace=True)\n",
    "    \n",
    "    "
   ]
  },
  {
   "cell_type": "code",
   "execution_count": 10,
   "metadata": {},
   "outputs": [],
   "source": [
    "dep_embeddings_model_1.columns = ['dep_' + str(x) for x in range(128)] + ['label']\n",
    "dep_embeddings_model_2.columns = ['dep_' + str(x) for x in range(128)] + ['label']\n",
    "control_embeddings_model_1.columns = ['control_' + str(x) for x in range(128)] + ['label']\n",
    "control_embeddings_model_2.columns = ['control_' + str(x) for x in range(128)] + ['label']"
   ]
  },
  {
   "cell_type": "code",
   "execution_count": 11,
   "metadata": {},
   "outputs": [],
   "source": [
    "poly = pd.merge(dependencies_poly, ast_features_poly, on='label')\n",
    "tsvc = pd.merge(dependencies_tsvc, ast_features_tsvc, on='label')\n",
    "df_no_embedding = tsvc.append(poly, ignore_index=True)"
   ]
  },
  {
   "cell_type": "code",
   "execution_count": 12,
   "metadata": {},
   "outputs": [
    {
     "data": {
      "text/plain": [
       "'/home/maksim/PycharmProjects/unrolling/Features/dep_graph_characteristics'"
      ]
     },
     "execution_count": 12,
     "metadata": {},
     "output_type": "execute_result"
    }
   ],
   "source": [
    "dep_graph_characteristics"
   ]
  },
  {
   "cell_type": "code",
   "execution_count": 13,
   "metadata": {},
   "outputs": [],
   "source": [
    "graph_characteristics = pd.merge(dep_graph_features, control_graph_features, on='label')\n",
    "df_no_embedding = pd.merge(df_no_embedding, graph_characteristics, on='label')"
   ]
  },
  {
   "cell_type": "code",
   "execution_count": 15,
   "metadata": {},
   "outputs": [
    {
     "data": {
      "text/plain": [
       "0                             s3251\n",
       "1                              s271\n",
       "2                                va\n",
       "3                              s222\n",
       "4                              s323\n",
       "5                              s322\n",
       "6                              s315\n",
       "7                              s315\n",
       "8                             s1351\n",
       "9                             s1112\n",
       "10                              vtv\n",
       "11                            s2710\n",
       "12                             s453\n",
       "13                            s1279\n",
       "14                             s000\n",
       "15                             s422\n",
       "16                             s292\n",
       "17                             s321\n",
       "18                             s481\n",
       "19                            s4113\n",
       "20                            s1251\n",
       "21                            vtvtv\n",
       "22                            s1113\n",
       "23                            s2101\n",
       "24                              vpv\n",
       "25                             s341\n",
       "26                             s152\n",
       "27                             s113\n",
       "28                             s424\n",
       "29                             s452\n",
       "                   ...             \n",
       "147            kernel_gemver_loop_3\n",
       "148            kernel_gemver_loop_4\n",
       "149                kernel_lu_loop_1\n",
       "150           kernel_heat_3d_loop_1\n",
       "151          kernel_nussinov_loop_1\n",
       "152       kernel_correlation_loop_1\n",
       "153       kernel_correlation_loop_2\n",
       "154       kernel_correlation_loop_3\n",
       "155       kernel_correlation_loop_4\n",
       "156           kernel_deriche_loop_1\n",
       "157           kernel_deriche_loop_2\n",
       "158           kernel_deriche_loop_3\n",
       "159           kernel_deriche_loop_4\n",
       "160           kernel_deriche_loop_5\n",
       "161           kernel_deriche_loop_6\n",
       "162           kernel_fdtd_2d_loop_1\n",
       "163               kernel_adi_loop_1\n",
       "164              kernel_symm_loop_1\n",
       "165         kernel_jacobi_2d_loop_1\n",
       "166              kernel_atax_loop_1\n",
       "167           kernel_trisolv_loop_1\n",
       "168         kernel_seidel_2d_loop_1\n",
       "169              kernel_gemm_loop_1\n",
       "170            kernel_durbin_loop_1\n",
       "171       kernel_gramschmidt_loop_1\n",
       "172               kernel_3mm_loop_1\n",
       "173               kernel_3mm_loop_2\n",
       "174               kernel_3mm_loop_3\n",
       "175           kernel_gesummv_loop_1\n",
       "176    kernel_floyd_warshall_loop_1\n",
       "Name: label, Length: 177, dtype: object"
      ]
     },
     "execution_count": 15,
     "metadata": {},
     "output_type": "execute_result"
    }
   ],
   "source": [
    "df_no_embedding['label']"
   ]
  },
  {
   "cell_type": "code",
   "execution_count": 72,
   "metadata": {},
   "outputs": [],
   "source": [
    "df_only_dep_graph_1 =  pd.merge(dep_embeddings_model_1, df_no_embedding, on='label')\n",
    "df_only_dep_graph_2 = pd.merge(dep_embeddings_model_2, df_no_embedding, on='label')\n",
    "df_only_control_graph_1 = pd.merge(control_embeddings_model_1, df_no_embedding, on='label')\n",
    "df_only_control_graph_2 = pd.merge(control_embeddings_model_2, df_no_embedding, on='label')\n",
    "\n",
    "\n",
    "\n",
    "df_embedding_model_1 = pd.merge(control_embeddings_model_1, dep_embeddings_model_1, on='label')\n",
    "df_embedding_model_2 = pd.merge(control_embeddings_model_2, dep_embeddings_model_2, on='label')\n",
    "df_embedding_model_1 = pd.merge(df_embedding_model_1, df_no_embedding, on='label')\n",
    "df_embedding_model_2 = pd.merge(df_embedding_model_2, df_no_embedding, on='label')"
   ]
  },
  {
   "cell_type": "code",
   "execution_count": 82,
   "metadata": {},
   "outputs": [
    {
     "data": {
      "text/plain": [
       "0         kernel_gramschmidt_loop_1\n",
       "1                  kernel_lu_loop_1\n",
       "2                kernel_gemm_loop_1\n",
       "3                kernel_atax_loop_1\n",
       "4           kernel_jacobi_2d_loop_1\n",
       "5            kernel_cholesky_loop_1\n",
       "6                 kernel_2mm_loop_1\n",
       "7                 kernel_2mm_loop_2\n",
       "8                kernel_syrk_loop_1\n",
       "9      kernel_floyd_warshall_loop_1\n",
       "10             kernel_gemver_loop_1\n",
       "11             kernel_gemver_loop_2\n",
       "12             kernel_gemver_loop_3\n",
       "13             kernel_gemver_loop_4\n",
       "14               kernel_symm_loop_1\n",
       "15                kernel_3mm_loop_1\n",
       "16                kernel_3mm_loop_2\n",
       "17                kernel_3mm_loop_3\n",
       "18            kernel_gesummv_loop_1\n",
       "19          kernel_seidel_2d_loop_1\n",
       "20                kernel_mvt_loop_1\n",
       "21                kernel_mvt_loop_2\n",
       "22         kernel_covariance_loop_1\n",
       "23         kernel_covariance_loop_2\n",
       "24         kernel_covariance_loop_3\n",
       "25            kernel_fdtd_2d_loop_1\n",
       "26             kernel_durbin_loop_1\n",
       "27            kernel_heat_3d_loop_1\n",
       "28               kernel_bicg_loop_1\n",
       "29               kernel_trmm_loop_1\n",
       "                   ...             \n",
       "147                            s453\n",
       "148                            s243\n",
       "149                            s244\n",
       "150                           s4113\n",
       "151                            s351\n",
       "152                           s2101\n",
       "153                           s1279\n",
       "154                            s315\n",
       "155                            s315\n",
       "156                            s272\n",
       "157                            s291\n",
       "158                            s323\n",
       "159                            s253\n",
       "160                           s3251\n",
       "161                            s424\n",
       "162                            s256\n",
       "163                            s242\n",
       "164                            s261\n",
       "165                           s3111\n",
       "166                            s451\n",
       "167                            s173\n",
       "168                            s132\n",
       "169                           s2244\n",
       "170                           s1115\n",
       "171                           s1213\n",
       "172                            s258\n",
       "173                            s124\n",
       "174                            s211\n",
       "175                            s331\n",
       "176                           s2711\n",
       "Name: label, Length: 177, dtype: object"
      ]
     },
     "execution_count": 82,
     "metadata": {},
     "output_type": "execute_result"
    }
   ],
   "source": [
    "df_embedding_model_2['label']"
   ]
  },
  {
   "cell_type": "code",
   "execution_count": null,
   "metadata": {},
   "outputs": [],
   "source": []
  },
  {
   "cell_type": "code",
   "execution_count": null,
   "metadata": {},
   "outputs": [],
   "source": []
  }
 ],
 "metadata": {
  "kernelspec": {
   "display_name": "Python 3",
   "language": "python",
   "name": "python3"
  },
  "language_info": {
   "codemirror_mode": {
    "name": "ipython",
    "version": 3
   },
   "file_extension": ".py",
   "mimetype": "text/x-python",
   "name": "python",
   "nbconvert_exporter": "python",
   "pygments_lexer": "ipython3",
   "version": "3.7.3"
  }
 },
 "nbformat": 4,
 "nbformat_minor": 2
}
